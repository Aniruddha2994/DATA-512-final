{
 "cells": [
  {
   "cell_type": "markdown",
   "metadata": {},
   "source": [
    "# DATA512 A4: FInal Project Proposal"
   ]
  },
  {
   "cell_type": "markdown",
   "metadata": {},
   "source": [
    "# Title: Toxic Behaviour in Online Gaming\n",
    "\n"
   ]
  },
  {
   "cell_type": "markdown",
   "metadata": {},
   "source": [
    "### Motivation\n",
    "The popularity for online competetive gaming is increasing exponentially. Billions of people worldwide get together to play online games and some of theme have even made a career out of playing games called 'pro-players'. The rise of gaming industry has opened up new career options such as professional players, viddeo-game streamers, game casters and many more. It has given birth to a fascinating online social community and gaming culture. But there are some major problems that the gaming community is facing, one of them is the issue of toxic behaviour. Players competing with eachother in online games often use profane and toxic language in the heat-of-the-moment or as strategy or simply to vent their frustration. Communication channels might be abused to harass and verbally assault other players, which negates the very purpose of entertainment in games by creating a toxic player-community. As a gaming enthusiast myself, I wish to analyze the toxic behaviour in online gaming and how it affects mental health of players."
   ]
  },
  {
   "cell_type": "markdown",
   "metadata": {},
   "source": [
    "### Project Objective\n",
    "\n",
    "Analyze the Toxic behaviour in online gaming and its impact on mental health\n",
    "1. Exploratory data analysis of mental health data of online gamers\n",
    "2. classify in-game chat messages/comments into different toxicity category\n",
    "3. Explore impact of comments on mental health\n"
   ]
  },
  {
   "cell_type": "markdown",
   "metadata": {},
   "source": [
    "### Data\n",
    "\n",
    "\n",
    "###### 1. Dota 2 Game Chats:\n",
    "For this project, I will focus on ingame chat data for Dota 2 — video game by Valve, one of the most popular eSport discipline. A single match of Dota 2 is played between 10 players who are divided into two teams (Radiant and Dire) of 5 players each. Dota 2 enjoys one of the largest numbers of online players worldwide. Though data is for a specific game, it is a fair representation of the MOBA(multiplayer online battle arena) gaming genre which is the most popular and competetive online gaming genre. \n",
    "\n",
    "This dataset contains chat messages from Dota 2. It contains chats of almost 1M matches from public matchmaking (when players are selected by the game server at random with about the same skill level).\n",
    "It is publically available at [Kaggle](https://www.kaggle.com/romovpa/gosuai-dota-2-game-chats).\\\n",
    "\n",
    "<b>Column Definitions</b>\n",
    "- <b>match</b> Match index (primary key)\n",
    "- <b>time</b> Game time when the message was sent\n",
    "- <b>slot</b> Player slot (0–4 for Radiant (Team A), 5–9 for Dire (Team B))\n",
    "- <b>text</b> Text of the message\n",
    "\n",
    " \n",
    "\n",
    "###### 2. Online Gaming Anxiety Data:\n",
    "This dataset consists of data collected as a part of a survey among gamers worldwide. The questionnaire asked questions that psychologists generally ask people who are prone to anxiety, social phobia, and less to no life satisfaction. The questionnaire consists of several set of questions as asked as a part of psychological study. The original data was collated by Marian Sauter and Dejan Draschkow.\n",
    "It is publically availaible and can be downloaded from [here](https://www.kaggle.com/divyansh22/online-gaming-anxiety-data).\\\n",
    "\n",
    "<b>Column Definitions</b>\\\n",
    "The data consists of 55 columns that correspond to every question asked in the survey questionnaire. Most of the columns correspond to different scoring criteria used in psychology like GAD (General Anxiety Disorder), SWL (Satisfaction with Life) an and SPIN (Social Phobia Inventory) scores. There are a few generic questions about where the people are born and why do they lay online games etc.\n"
   ]
  },
  {
   "cell_type": "markdown",
   "metadata": {},
   "source": [
    "### Research Questions\n",
    "\n",
    "Some of the research questions that the project hopes to answer\n",
    "\n",
    "1. What are the most common mental health problems among online gamers\n",
    "2. What is the most common type of toxicity observed in online gaming"
   ]
  },
  {
   "cell_type": "markdown",
   "metadata": {},
   "source": [
    "### Methodology\n",
    "\n",
    "1. Data Cleaning\n",
    "2. Devise text/speech patters to classify comments into following categories to identify toxic behaviour:\n",
    "    - slang\n",
    "    - praise\n",
    "    - hate\n",
    "    - command\n",
    "3. Explore and analyze gaming anxiety data"
   ]
  },
  {
   "cell_type": "markdown",
   "metadata": {},
   "source": [
    "### Related Work\n",
    "My inpiration for this project comes from the article by Ayuub Mustofa which talks about the toxicity in online gaming community. The article can be found [here](https://hybrid.co.id/post/toxic-behavior-in-online-gaming-is-it-necessary). It talks about how toxic behaviour of players can also be by choice based on the context of the game along with its impacts on the gaming community. \n",
    "\n",
    "Some related research:\n",
    "1. [Toxicity Detection in Multiplayer Online Games](https://www.researchgate.net/publication/286048587_Toxicity_Detection_in_Multiplayer_Online_Games), Dec 2015, published at the 14th International Workshop on Network and Systems Support for Games by Marcus Märtens.\n",
    "\n",
    "2. [The Association Between Video Gaming and Psychological Functioning](https://www.ncbi.nlm.nih.gov/pmc/articles/PMC6676913/), by Juliane M. von der Heiden, Beate Braun, Kai W. Müller and Boris Egloff, published online 2019 Jul 26."
   ]
  },
  {
   "cell_type": "markdown",
   "metadata": {},
   "source": [
    "### Unknowns/Dependencies\n",
    "The chat data has text presnent in languages other than English, translating them into english might be challenging.\n",
    "\n",
    "At present I have no key or data availaible to connect the 'gaming anxiety data' with the 'dota2 game chats data' which would be crucial in understanding and visualizing direct impact of toxicity on mental health among gamers. If i am unable to find a supporting dataset I will only be able to perform an EDA on the 'gaming anxiety data' alone."
   ]
  }
 ],
 "metadata": {
  "kernelspec": {
   "display_name": "Python 3",
   "language": "python",
   "name": "python3"
  },
  "language_info": {
   "codemirror_mode": {
    "name": "ipython",
    "version": 3
   },
   "file_extension": ".py",
   "mimetype": "text/x-python",
   "name": "python",
   "nbconvert_exporter": "python",
   "pygments_lexer": "ipython3",
   "version": "3.7.3"
  }
 },
 "nbformat": 4,
 "nbformat_minor": 2
}
